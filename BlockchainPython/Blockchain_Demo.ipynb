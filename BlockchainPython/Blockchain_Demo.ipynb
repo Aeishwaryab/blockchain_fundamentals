{
 "metadata": {
  "name": "Blockchain_Demo"
 },
 "nbformat": 3,
 "nbformat_minor": 0,
 "worksheets": [
  {
   "cells": [
    {
     "cell_type": "markdown",
     "metadata": {},
     "source": "## This is a sample code to create a dummy blockchain in python.\n### This consists of:\n- Making transactions\n- Mining pending transactions\n- Proof-of-work algorithm to mine the blocks and adding them in the blockchain."
    },
    {
     "cell_type": "code",
     "collapsed": false,
     "input": "import hashlib as hasher\nimport datetime as date\nimport numpy as np",
     "language": "python",
     "metadata": {},
     "outputs": [],
     "prompt_number": 28
    },
    {
     "cell_type": "code",
     "collapsed": false,
     "input": "## Transaction object\n# It has\n#    senderAddress: address of the sender.\n#    receiverAddress: address of the receiver.\n#    amount: amount/number of money/coins transferred.\n##########################################################################\n\nclass Transaction:\n    def __init__(self, senderAddress, receiverAddress, amount):\n        self.senderAddress = senderAddress\n        self.receiverAddress = receiverAddress\n        self.amount = amount\n\n    def __repr__(self):\n        return \"Transaction [sender = {}, receiver = {}, amount = {}]\".format(\n            self.senderAddress, self.receiverAddress, self.amount\n        )\n\n##########################################################################",
     "language": "python",
     "metadata": {},
     "outputs": [],
     "prompt_number": 29
    },
    {
     "cell_type": "code",
     "collapsed": false,
     "input": "## Block object\n# It has \n#    timestamp: when was the block the created.\n#    transactions: transations corresponding to that block.\n#    nonce: random number to be calculated so that the hash of the the block has some features(here, hash will start from some number of zeros)\n#    prev_hash: contains the hash of the previous block in the blockchain.\n#    hash: contains the hash of the block.\n#    calculate_hash(): to calculate the hash of the block.\n#    mine_block(): mine the block with the difficulty number.\n##########################################################################\n\nclass Block:\n    def __init__(self, transactions):\n        self.timestamp = date.datetime.now()\n        self.transactions = transactions\n        self.nonce = 0\n        self.prev_hash = \"\"\n        self.hash = self.calculate_hash()\n\n    def calculate_hash(self):\n        sha = hasher.sha256()\n        sha.update(\n            str(self.timestamp).encode(\"utf-8\") + \n            str(self.prev_hash).encode(\"utf-8\") + \n            str(self.transactions).encode(\"utf-8\") + \n            str(self.nonce).encode(\"utf-8\")\n        )\n        return sha.hexdigest()\n\n    def mine_block(self, difficulty):\n        difficulty_string = \"\"\n        difficulty_string = difficulty_string.join([\"0\"] * difficulty) #  can be done this way too -> difficulty_string.join(str (zero) for zero in np.zeros(difficulty, dtype = int).tolist())\n        self.nonce = 0\n        while(self.hash[:difficulty] != difficulty_string):\n            self.nonce += 1\n            self.hash = self.calculate_hash()\n\n    \n    def __repr__(self):\n        return \"\\n\\t\\tBlock: [\\n\\t\\t\\ttimeStamp = {}, \\n\\t\\t\\ttransactions = {}, \\n\\t\\t\\tprevHash = {}, \\n\\t\\t\\thash = {}, \\n\\t\\t\\tnonce = {} \\n\\t\\t]\".format(\n            self.timestamp, self.transactions, self.prev_hash, self.hash, self.nonce\n        )\n\n##########################################################################",
     "language": "python",
     "metadata": {},
     "outputs": [],
     "prompt_number": 30
    },
    {
     "cell_type": "code",
     "collapsed": false,
     "input": "## Blockchain object\n# It has\n#    name: name of the blockchain.\n#    chain: array of blocks.\n#    difficulty: difficulty of the blockchain to validate the block (here, number of zeros at the start of the hash of every block for the hash to be a valid hash).\n#    pending_transactions: list of pending/unconfirmed transactions\n#    reward_for_mining: reward/token amount/coins given to the miners for mining the block and adding a valid block in the blockchain.\n#    push_block(): to add the block in the blockchain,\n#    mine_pending_transactions(): mine the pending/unconfirmed transactions.\n#    create_transaction(): add a transaction into the list of pending transactions.\n#    get_balance_of_node(): to fetch the balance of a node given its address.\n##########################################################################\n\nclass Blockchain:\n    def __init__(self, name = 'APCoin', difficulty = 3, reward_for_mining = 75):\n        self.name = name\n        self.chain = [Block([Transaction(\"GenesisSender\", \"GenesisReceiver\", 0)])]\n        self.difficulty = difficulty\n        self.pending_transactions = []\n        self.reward_for_mining = reward_for_mining\n\n    def push_block(self, block):\n        block.prev_hash = self.chain[len(self.chain) - 1].hash\n        block.mine_block(self.difficulty)\n        self.chain.append(block)\n\n    def mine_pending_transactions(self, miner_address):\n        block = Block(self.pending_transactions)\n        self.push_block(block)\n        self.pending_transactions = []\n        self.pending_transactions.append(Transaction(self.name, miner_address, self.reward_for_mining))\n   \n    def create_transaction(self, transaction):\n        self.pending_transactions.append(transaction)\n\n    def get_balance_of_node(self, address):\n        balance = 0\n        for block in self.chain:\n            for transaction in block.transactions:\n                if (transaction.senderAddress == address):\n                    balance -= transaction.amount\n                if (transaction.receiverAddress == address):\n                    balance += transaction.amount\n        return balance\n\n    def __repr__(self):\n        return \"Blockchain: [\\n\\tname = {}, \\n\\tchain = {}, \\n\\tdifficulty = {}, \\n\\tpendingTransactions = {}, \\n\\trewardForMining = {} \\n\\t\\t]\".format(\n            self.name, self.chain, self.difficulty, self.pending_transactions, self.reward_for_mining\n        )\n\n##########################################################################",
     "language": "python",
     "metadata": {},
     "outputs": [],
     "prompt_number": 31
    },
    {
     "cell_type": "code",
     "collapsed": false,
     "input": "# Demo\n\nif __name__ == '__main__':\n    my_block_chain = Blockchain(\"APCoin\", 3, 75)\n    my_block_chain.create_transaction(Transaction(\"Rob\", \"Sam\", 10))\n    my_block_chain.create_transaction(Transaction(\"Sam\", \"David\", 40))\n\n    print(\"Blockchain after creating transactions. \\n\" + str(my_block_chain))\n\n    my_block_chain.mine_pending_transactions(\"Rob\")\n    print(\"\\n\\nBlockchain after mining. \\n\" + str(my_block_chain))\n\n    my_block_chain.mine_pending_transactions(\"Sam\")\n    print(\"\\n\\nBlockchain after mining second time. \\n\" + str(my_block_chain))\n\n    print(\"\\n\\nBalance of Rob\\n\" + str(my_block_chain.get_balance_of_node(\"Rob\")))\n",
     "language": "python",
     "metadata": {},
     "outputs": [
      {
       "output_type": "stream",
       "stream": "stdout",
       "text": "Blockchain after creating transactions. \nBlockchain: [\n\tname = APCoin, \n\tchain = [\n\t\tBlock: [\n\t\t\ttimeStamp = 2018-05-06 17:41:20.132000, \n\t\t\ttransactions = [Transaction [sender = GenesisSender, receiver = GenesisReceiver, amount = 0]], \n\t\t\tprevHash = , \n\t\t\thash = 956a75af14447e6088170e091e697430a2447098c63a9faf5b26612051f0ad5a, \n\t\t\tnonce = 0 \n\t\t]], \n\tdifficulty = 3, \n\tpendingTransactions = [Transaction [sender = Rob, receiver = Sam, amount = 10], Transaction [sender = Sam, receiver = David, amount = 40]], \n\trewardForMining = 75 \n\t\t]\n\n\nBlockchain after mining. \nBlockchain: [\n\tname = APCoin, \n\tchain = [\n\t\tBlock: [\n\t\t\ttimeStamp = 2018-05-06 17:41:20.132000, \n\t\t\ttransactions = [Transaction [sender = GenesisSender, receiver = GenesisReceiver, amount = 0]], \n\t\t\tprevHash = , \n\t\t\thash = 956a75af14447e6088170e091e697430a2447098c63a9faf5b26612051f0ad5a, \n\t\t\tnonce = 0 \n\t\t], \n\t\tBlock: [\n\t\t\ttimeStamp = 2018-05-06 17:41:20.133000, \n\t\t\ttransactions = [Transaction [sender = Rob, receiver = Sam, amount = 10], Transaction [sender = Sam, receiver = David, amount = 40]], \n\t\t\tprevHash = 956a75af14447e6088170e091e697430a2447098c63a9faf5b26612051f0ad5a, \n\t\t\thash = 000314550d4dcd6e5daf8e2ef77e41cdaa100f6094bbadcd07d203b04c1772fd, \n\t\t\tnonce = 3987 \n\t\t]], \n\tdifficulty = 3, \n\tpendingTransactions = [Transaction [sender = APCoin, receiver = Rob, amount = 75]], \n\trewardForMining = 75 \n\t\t]\n\n\nBlockchain after mining second time. \nBlockchain: [\n\tname = APCoin, \n\tchain = [\n\t\tBlock: [\n\t\t\ttimeStamp = 2018-05-06 17:41:20.132000, \n\t\t\ttransactions = [Transaction [sender = GenesisSender, receiver = GenesisReceiver, amount = 0]], \n\t\t\tprevHash = , \n\t\t\thash = 956a75af14447e6088170e091e697430a2447098c63a9faf5b26612051f0ad5a, \n\t\t\tnonce = 0 \n\t\t], \n\t\tBlock: [\n\t\t\ttimeStamp = 2018-05-06 17:41:20.133000, \n\t\t\ttransactions = [Transaction [sender = Rob, receiver = Sam, amount = 10], Transaction [sender = Sam, receiver = David, amount = 40]], \n\t\t\tprevHash = 956a75af14447e6088170e091e697430a2447098c63a9faf5b26612051f0ad5a, \n\t\t\thash = 000314550d4dcd6e5daf8e2ef77e41cdaa100f6094bbadcd07d203b04c1772fd, \n\t\t\tnonce = 3987 \n\t\t], \n\t\tBlock: [\n\t\t\ttimeStamp = 2018-05-06 17:41:20.176000, \n\t\t\ttransactions = [Transaction [sender = APCoin, receiver = Rob, amount = 75]], \n\t\t\tprevHash = 000314550d4dcd6e5daf8e2ef77e41cdaa100f6094bbadcd07d203b04c1772fd, \n\t\t\thash = 000adbd10c0b3b15840f722c68ee410479f6982ae2d94247be893f10e740bd51, \n\t\t\tnonce = 561 \n\t\t]], \n\tdifficulty = 3, \n\tpendingTransactions = [Transaction [sender = APCoin, receiver = Sam, amount = 75]], \n\trewardForMining = 75 \n\t\t]\n"
      },
      {
       "output_type": "stream",
       "stream": "stdout",
       "text": "\n\nBalance of Rob\n65\n"
      }
     ],
     "prompt_number": 32
    },
    {
     "cell_type": "code",
     "collapsed": false,
     "input": "",
     "language": "python",
     "metadata": {},
     "outputs": []
    }
   ],
   "metadata": {}
  }
 ]
}
